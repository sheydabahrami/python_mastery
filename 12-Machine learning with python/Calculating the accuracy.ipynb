{
 "cells": [
  {
   "cell_type": "code",
   "execution_count": null,
   "metadata": {},
   "outputs": [],
   "source": [
    "#09 Calculating the Accuracy\n",
    "\n",
    "# In this lesson we are going to measure the accuracy of our model.\n",
    "# To do so we need so split the data sets into two sets.\n",
    "# One for training and another for testing.\n",
    "# \n",
    "# The usual rule esto alocate 70% to 80% of the data for training and the other 20% to 30% for testing.\n",
    "# \n",
    "# First we import the \"train_test_split\" function from the \"sklearn.model_selection\" module.\n",
    "# This function takes tree arguments the input data set \"X\" the output data set \"y\", and a parameter to specify the size of the test data set \"teste_size\".\n",
    "# This function returns a tuple, so we can unpack ti to four variables.\n",
    "\n",
    "from sklearn.model_selection import train_test_split\n",
    "\n",
    "X_train, X_test, y_train, y_test = train_test_split(X, y, teste_size=0.2)\n",
    "\n",
    "#In this case we set the size of the test data set to 0.2 or 20%.\n",
    "\n",
    "\n",
    "#Now we pass to the model our input and output training data sets. To train the model.\n",
    "#And we ask to make predictions base in our input test data set.\n",
    "\n",
    "model.fit(X_train, y_train)\n",
    "predictions = model.predict(X_test)\n",
    "\n",
    "\n",
    "# Now to calculate the accuracy we import \"accuracy_score()\" function from the \"sklearn.metrics\" module.\n",
    "# The \"accuracy_score()\" takes two methods the output test data set \"y_test\" and our predictions.\n",
    "# And returns an accuracy score betwenn 0 to 1.\n",
    "# We store the result in the variable \"model_score\"\n",
    "\n",
    "model_score = accuracy_score(y_test, predictions)"
   ]
  }
 ],
 "metadata": {
  "interpreter": {
   "hash": "4a637402cf7e1c39994fa5796039575ac26b81da95d5a3e683c78a2e3a5426f8"
  },
  "kernelspec": {
   "display_name": "Python 3.8.2 64-bit",
   "language": "python",
   "name": "python3"
  },
  "language_info": {
   "name": "python",
   "version": "3.8.2"
  },
  "orig_nbformat": 4
 },
 "nbformat": 4,
 "nbformat_minor": 2
}
