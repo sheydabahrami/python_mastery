{
 "cells": [
  {
   "cell_type": "code",
   "execution_count": null,
   "metadata": {},
   "outputs": [],
   "source": [
    "# 10 Persisting Models\n",
    "# \n",
    "# \n",
    "# We import our data set. Create a model. And train it. And ask it to make prerdictions.\n",
    "# We do not need to go throw this flow every time.\n",
    "# After we train our model we can save it to a file and and load the file to make predictions.\n",
    "# \n",
    "# For that we import the \"joblib()\" function from the \"sklearn.externals\" module.\n",
    "# This funtions has methods to save and load models.\n",
    "# \n",
    "# To save the model after we train it, we call the \".dump()\" method. This method takes to arguments. The model and the name of the file.\n",
    "\n",
    "from sklearn.externals import joblib\n",
    "joblib.dump(model, \"music-recommender.joblib\")\n",
    "\n",
    "# This will create the joblib model in the same folder as our jupyter notebook. This is a binary file.\n",
    "music-recommender.joblib\n",
    "\n",
    "# To load our model use the \"load()\" method.\n",
    "# This will load our model to the \"trained_model\" variable.\n",
    "trained_model = joblib.load(\"music-recommender.joblib\")\n",
    "\n",
    "# This is how we persist and load models."
   ]
  }
 ],
 "metadata": {
  "interpreter": {
   "hash": "4a637402cf7e1c39994fa5796039575ac26b81da95d5a3e683c78a2e3a5426f8"
  },
  "kernelspec": {
   "display_name": "Python 3.8.2 64-bit",
   "language": "python",
   "name": "python3"
  },
  "language_info": {
   "name": "python",
   "version": "3.8.2"
  },
  "orig_nbformat": 4
 },
 "nbformat": 4,
 "nbformat_minor": 2
}
